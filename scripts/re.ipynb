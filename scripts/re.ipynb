{
 "cells": [
  {
   "cell_type": "code",
   "execution_count": 25,
   "metadata": {},
   "outputs": [],
   "source": [
    "import re"
   ]
  },
  {
   "cell_type": "code",
   "execution_count": 26,
   "metadata": {},
   "outputs": [
    {
     "name": "stdout",
     "output_type": "stream",
     "text": [
      "--01-\n"
     ]
    }
   ],
   "source": [
    "string = \"--01-\"\n",
    "print(string)"
   ]
  },
  {
   "cell_type": "code",
   "execution_count": 27,
   "metadata": {},
   "outputs": [
    {
     "name": "stdout",
     "output_type": "stream",
     "text": [
      "dash_num = 3\n",
      "bin_numbers = ['000', '001', '010', '011', '100', '101', '110', '111'])\n"
     ]
    }
   ],
   "source": [
    "dash_num = len(re.findall(r'-', string))\n",
    "print(f\"dash_num = {dash_num}\")\n",
    "\n",
    "bin_numbers = [format(num, \"03b\") for num in range(2**dash_num)]\n",
    "print(f\"bin_numbers = {bin_numbers})\")"
   ]
  },
  {
   "cell_type": "code",
   "execution_count": 81,
   "metadata": {},
   "outputs": [
    {
     "name": "stdout",
     "output_type": "stream",
     "text": [
      "start_pos = 0, stop_pos = 2\n",
      "start_pos = 4, stop_pos = 5\n"
     ]
    }
   ],
   "source": [
    "dash_iter = re.finditer(r'[-]+', string)\n",
    "\n",
    "for dash_group in dash_iter:\n",
    "    (start_pos, stop_pos) = dash_group.span()\n",
    "    print(f\"start_pos = {start_pos}, stop_pos = {stop_pos}\")"
   ]
  },
  {
   "cell_type": "code",
   "execution_count": 119,
   "metadata": {},
   "outputs": [
    {
     "name": "stdout",
     "output_type": "stream",
     "text": [
      "string_replaced = ['-@--@', '-@--@', '-@--@', '-@--@', '-@--@', '-@--@', '-@--@', '-@--@']\n",
      "> i = 0, bin_number = 000, tmp_string = -@--@\n",
      "p1 = 0, p2 = 1, len = 1, bin_p = 0, tmp_string = 0@--@\n",
      "p1 = 2, p2 = 4, len = 2, bin_p = 1, tmp_string = 0@00@\n",
      "> i = 1, bin_number = 001, tmp_string = -@--@\n",
      "p1 = 0, p2 = 1, len = 1, bin_p = 0, tmp_string = 0@--@\n",
      "p1 = 2, p2 = 4, len = 2, bin_p = 1, tmp_string = 0@01@\n",
      "> i = 2, bin_number = 010, tmp_string = -@--@\n",
      "p1 = 0, p2 = 1, len = 1, bin_p = 0, tmp_string = 0@--@\n",
      "p1 = 2, p2 = 4, len = 2, bin_p = 1, tmp_string = 0@10@\n",
      "> i = 3, bin_number = 011, tmp_string = -@--@\n",
      "p1 = 0, p2 = 1, len = 1, bin_p = 0, tmp_string = 0@--@\n",
      "p1 = 2, p2 = 4, len = 2, bin_p = 1, tmp_string = 0@11@\n",
      "> i = 4, bin_number = 100, tmp_string = -@--@\n",
      "p1 = 0, p2 = 1, len = 1, bin_p = 0, tmp_string = 1@--@\n",
      "p1 = 2, p2 = 4, len = 2, bin_p = 1, tmp_string = 1@00@\n",
      "> i = 5, bin_number = 101, tmp_string = -@--@\n",
      "p1 = 0, p2 = 1, len = 1, bin_p = 0, tmp_string = 1@--@\n",
      "p1 = 2, p2 = 4, len = 2, bin_p = 1, tmp_string = 1@01@\n",
      "> i = 6, bin_number = 110, tmp_string = -@--@\n",
      "p1 = 0, p2 = 1, len = 1, bin_p = 0, tmp_string = 1@--@\n",
      "p1 = 2, p2 = 4, len = 2, bin_p = 1, tmp_string = 1@10@\n",
      "> i = 7, bin_number = 111, tmp_string = -@--@\n",
      "p1 = 0, p2 = 1, len = 1, bin_p = 0, tmp_string = 1@--@\n",
      "p1 = 2, p2 = 4, len = 2, bin_p = 1, tmp_string = 1@11@\n",
      "string_replaced = ['0@00@', '0@01@', '0@10@', '0@11@', '1@00@', '1@01@', '1@10@', '1@11@']\n"
     ]
    }
   ],
   "source": [
    "string = \"-@--@\"\n",
    "\n",
    "dash_num = len(re.findall(r'-', string))\n",
    "bin_numbers = [format(num, f\"0{dash_num}b\") for num in range(2**dash_num)]\n",
    "\n",
    "string_replaced = [string for _ in range(len(bin_numbers))]\n",
    "\n",
    "print(f\"string_replaced = {string_replaced}\")\n",
    "\n",
    "\n",
    "for i, bin_number in enumerate(bin_numbers):\n",
    "    tmp_string = string_replaced[i]\n",
    "    dash_iter = re.finditer(r'[-]+', tmp_string)\n",
    "\n",
    "    print(f\"> i = {i}, bin_number = {bin_number}\", end=\", \")\n",
    "    print(f\"tmp_string = {tmp_string}\")\n",
    "\n",
    "    bin_letter_pointer = 0\n",
    "\n",
    "    for dash_group in dash_iter:\n",
    "        (start_pos, stop_pos) = dash_group.span()\n",
    "        dash_group_len = stop_pos - start_pos\n",
    "\n",
    "        print(f\"p1 = {start_pos}, p2 = {stop_pos}\", end=\", \")\n",
    "        print(f\"len = {dash_group_len}\", end=\", \")\n",
    "        print(f\"bin_p = {bin_letter_pointer}\", end=\", \")\n",
    "        \n",
    "        tmp_string = tmp_string[0:start_pos] + bin_number[bin_letter_pointer:bin_letter_pointer+dash_group_len] + tmp_string[stop_pos:]\n",
    "\n",
    "        bin_letter_pointer += dash_group_len\n",
    "\n",
    "        print(f\"tmp_string = {tmp_string}\")\n",
    "\n",
    "    string_replaced[i] = tmp_string\n",
    "\n",
    "print(f\"string_replaced = {string_replaced}\")\n"
   ]
  },
  {
   "cell_type": "code",
   "execution_count": 130,
   "metadata": {},
   "outputs": [
    {
     "name": "stdout",
     "output_type": "stream",
     "text": [
      "strings_array = ['-@--@', '-@-@@']\n",
      "strings_array = ['0@00@', '0@01@', '0@10@', '0@11@', '1@00@', '1@01@', '1@10@', '1@11@', '0@0@@', '0@1@@', '1@0@@', '1@1@@']\n"
     ]
    }
   ],
   "source": [
    "strings_array = [\"-@--@\", \"-@-@@\"]\n",
    "\n",
    "print(f\"strings_array = {strings_array}\")\n",
    "\n",
    "for index, string in enumerate(strings_array):\n",
    "    dash_num = len(re.findall(r'-', string))\n",
    "    bin_numbers = [format(num, f\"0{dash_num}b\") for num in range(2**dash_num)]\n",
    "\n",
    "    string_replaced = [string for _ in range(len(bin_numbers))]\n",
    "\n",
    "    # print(f\"string_replaced = {string_replaced}\")\n",
    "\n",
    "    for i, bin_number in enumerate(bin_numbers):\n",
    "        tmp_string = string_replaced[i]\n",
    "        dash_iter = re.finditer(r'[-]+', tmp_string)\n",
    "\n",
    "        # print(f\"> i = {i}, bin_number = {bin_number}\", end=\", \")\n",
    "        # print(f\"tmp_string = {tmp_string}\")\n",
    "\n",
    "        bin_letter_pointer = 0\n",
    "\n",
    "        for dash_group in dash_iter:\n",
    "            (start_pos, stop_pos) = dash_group.span()\n",
    "            dash_group_len = stop_pos - start_pos\n",
    "\n",
    "            # print(f\"p1 = {start_pos}, p2 = {stop_pos}\", end=\", \")\n",
    "            # print(f\"len = {dash_group_len}\", end=\", \")\n",
    "            # print(f\"bin_p = {bin_letter_pointer}\", end=\", \")\n",
    "\n",
    "            tmp_string = tmp_string[0:start_pos] + bin_number[bin_letter_pointer:bin_letter_pointer + dash_group_len] + tmp_string[stop_pos:]\n",
    "\n",
    "            bin_letter_pointer += dash_group_len\n",
    "\n",
    "            # print(f\"tmp_string = {tmp_string}\")\n",
    "\n",
    "        string_replaced[i] = tmp_string\n",
    "    \n",
    "    strings_array[index] = string_replaced\n",
    "\n",
    "    # print(f\"string_replaced = {string_replaced}\")\n",
    "\n",
    "strings_array = [item for sublist in strings_array for item in sublist]\n",
    "\n",
    "print(f\"strings_array = {strings_array}\")"
   ]
  },
  {
   "cell_type": "code",
   "execution_count": 184,
   "metadata": {},
   "outputs": [
    {
     "name": "stdout",
     "output_type": "stream",
     "text": [
      "output = ['00@0', '00@1', '01@0', '01@1', '10@0', '10@1', '11@0', '11@1', '00#0', '00#1', '01#0', '01#1', '10#0', '10#1', '11#0', '11#1']\n"
     ]
    }
   ],
   "source": [
    "import math\n",
    "\n",
    "def replace_with_binary_numbers(strings_array, bin_start, bin_stop, reg_exp):\n",
    "    if type(strings_array) == str:\n",
    "        strings_array = [strings_array]\n",
    "    elif type(strings_array) != list:\n",
    "        raise TypeError(\"strings_array must be a list or a string\")\n",
    "    \n",
    "    for index, string in enumerate(strings_array):\n",
    "        bin_len = math.ceil(math.log2(bin_stop - bin_start))\n",
    "        bin_numbers = [format(num, f\"0{bin_len}b\") for num in range(bin_start, bin_stop+1)]\n",
    "\n",
    "        string_replaced = [string for _ in range(len(bin_numbers))]\n",
    "\n",
    "        # print(f\"string_replaced = {string_replaced}\")\n",
    "\n",
    "        for i, bin_number in enumerate(bin_numbers):\n",
    "            tmp_string = string_replaced[i]\n",
    "            dash_iter = re.finditer(reg_exp, tmp_string)\n",
    "\n",
    "            # print(f\"> i = {i}, bin_number = {bin_number}\", end=\", \")\n",
    "            # print(f\"tmp_string = {tmp_string}\")\n",
    "\n",
    "            bin_letter_pointer = 0\n",
    "\n",
    "            for dash_group in dash_iter:\n",
    "                (start_pos, stop_pos) = dash_group.span()\n",
    "                dash_group_len = stop_pos - start_pos\n",
    "\n",
    "                # print(f\"p1 = {start_pos}, p2 = {stop_pos}\", end=\", \")\n",
    "                # print(f\"len = {dash_group_len}\", end=\", \")\n",
    "                # print(f\"bin_p = {bin_letter_pointer}\", end=\", \")\n",
    "\n",
    "                # if bin_len == len(string):\n",
    "                #     tmp_string = bin_number\n",
    "                # else:\n",
    "                tmp_string = tmp_string[0:start_pos] + bin_number[bin_letter_pointer:bin_letter_pointer + dash_group_len] + tmp_string[stop_pos:]\n",
    "\n",
    "                bin_letter_pointer += dash_group_len\n",
    "\n",
    "                # print(f\"tmp_string = {tmp_string}\")\n",
    "\n",
    "            string_replaced[i] = tmp_string\n",
    "\n",
    "        # print(f\"string_replaced = {string_replaced}\")\n",
    "\n",
    "        strings_array[index] = string_replaced\n",
    "\n",
    "        # print(f\"strings_array = {strings_array}\")\n",
    "\n",
    "    strings_array = [item for sublist in strings_array for item in sublist]\n",
    "\n",
    "    return strings_array\n",
    "\n",
    "\n",
    "strings_array = [\"--@-\", \"--#-\"]\n",
    "bin_start = 0\n",
    "bin_stop = 7 \n",
    "reg_expr = r'[-]+'\n",
    "\n",
    "output = replace_with_binary_numbers(strings_array, bin_start, bin_stop, reg_expr)\n",
    "\n",
    "print(f\"output = {output}\") \n"
   ]
  }
 ],
 "metadata": {
  "kernelspec": {
   "display_name": "env",
   "language": "python",
   "name": "python3"
  },
  "language_info": {
   "codemirror_mode": {
    "name": "ipython",
    "version": 3
   },
   "file_extension": ".py",
   "mimetype": "text/x-python",
   "name": "python",
   "nbconvert_exporter": "python",
   "pygments_lexer": "ipython3",
   "version": "3.9.13"
  }
 },
 "nbformat": 4,
 "nbformat_minor": 2
}
